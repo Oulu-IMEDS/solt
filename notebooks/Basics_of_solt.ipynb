{
 "cells": [
  {
   "cell_type": "markdown",
   "metadata": {},
   "source": [
    "# Basics of **solt**\n",
    "\n",
    "In this short tutorial, you will get to know the core concepts behind the **solt** library and also learn how to implement simple data augmentations by yourself."
   ]
  },
  {
   "cell_type": "code",
   "execution_count": 1,
   "metadata": {},
   "outputs": [],
   "source": [
    "%matplotlib inline\n",
    "import numpy as np\n",
    "import matplotlib.pyplot as plt\n",
    "from matplotlib import patches\n",
    "import cv2\n",
    "import os\n",
    "import glob\n",
    "import json\n",
    "\n",
    "np.random.seed(12345)"
   ]
  },
  {
   "cell_type": "markdown",
   "metadata": {},
   "source": [
    "Solt has several main modules: \n",
    "\n",
    "* `base_transforms` - Superclasses and validity checkers\n",
    "* `core` - Data Streaming classes. The allow to compose transforms into pipelines and serialize them.\n",
    "* `data` - Data containers (in **solt**, all the data need to be packed into specialized containers)\n",
    "* `transforms` - Transformations (data augmentations)\n",
    "\n",
    "The naming convention is in the cell below:"
   ]
  },
  {
   "cell_type": "code",
   "execution_count": 2,
   "metadata": {},
   "outputs": [],
   "source": [
    "import solt.base_transforms as slb\n",
    "import solt.transforms as slt\n",
    "import solt.core as slc\n",
    "import solt.data as sld"
   ]
  },
  {
   "cell_type": "markdown",
   "metadata": {},
   "source": [
    "## Typization in data augmentations and DataContainer\n",
    "\n",
    "Taking look at most of the other fast libraries, we found one particular disadvantage: the transforms do not understand the data and you need to implement some hacks to deal with it. The best library, which has specialized containers for different datatypes is [imgaug](https://github.com/aleju/imgaug), however it is very slow if you have limited resources.\n",
    "\n",
    "In **solt**, we created a `DataContainer`, which wraps all your data into a single object. Furthermore, the DataContainer enables a possibility to apply the same transformation to multiple images (e.g. to a minibatch, set of masks in instance segmentations etc.). What is needed is just the data and the specification whether it is an image (`I`), mask (`M`), keypoints (`P`) or labels (`L`). An example of creating the data container is given in the cell below:"
   ]
  },
  {
   "cell_type": "code",
   "execution_count": 3,
   "metadata": {},
   "outputs": [],
   "source": [
    "# Images must be in OpenCV format\n",
    "test_img_1 = np.zeros((5, 5, 3), dtype=np.uint8)\n",
    "dc = sld.DataContainer(test_img_1, 'I')"
   ]
  },
  {
   "cell_type": "markdown",
   "metadata": {},
   "source": [
    "When you have multiple data items, use tuple to supply the data to the `DataContainer`'s constructor. The number of elements in the tuple and the length of the format string must match:"
   ]
  },
  {
   "cell_type": "code",
   "execution_count": 4,
   "metadata": {},
   "outputs": [],
   "source": [
    "# Images must be in OpenCV format\n",
    "test_img_2 = np.zeros((5, 5, 3), dtype=np.uint8)\n",
    "test_img_3 = np.zeros((5, 5, 3), dtype=np.uint8)\n",
    "dc = sld.DataContainer((test_img_1, test_img_2, test_img_3), 'III')"
   ]
  },
  {
   "cell_type": "markdown",
   "metadata": {},
   "source": [
    "## Handling the keypoints\n",
    "\n",
    "We found some difficulties when though about the data augmentations for keypoints (landmarks). One solution, which we found benefitial was to create a container for the keypoints, which also contains the information about the coordinate frame where those keypoints are located:"
   ]
  },
  {
   "cell_type": "code",
   "execution_count": 5,
   "metadata": {},
   "outputs": [],
   "source": [
    "# Creating fake data\n",
    "kpts_data = np.array([[0, 0], [0, 1], [1, 0], [2, 0]]).reshape((4, 2))\n",
    "# Saying the the keypoints need to be within a rectangle HxW, where H=3, W=4 in this case\n",
    "kpts = sld.KeyPoints(kpts_data, 3, 4)\n",
    "# Now we can wrap these keypoints into a Data Container:\n",
    "dc = sld.DataContainer(kpts, 'P')"
   ]
  },
  {
   "cell_type": "markdown",
   "metadata": {},
   "source": [
    "## Sending the data through the transformations\n",
    "\n",
    "In **solt**, we have already implemented a large variety of transformations. We always to suggest to use a `Stream` to perform the data augmentations. Let us define a simple stream, which has only one transform  - `RandomFlip`. This transform's expected behaviour is to flip the data around the given axis. Let's perform a horizontal flip:"
   ]
  },
  {
   "cell_type": "code",
   "execution_count": 6,
   "metadata": {},
   "outputs": [],
   "source": [
    "stream = slc.Stream([\n",
    "    slt.RandomFlip(p=1, axis=1)\n",
    "])"
   ]
  },
  {
   "cell_type": "markdown",
   "metadata": {},
   "source": [
    "### Creating the data"
   ]
  },
  {
   "cell_type": "code",
   "execution_count": 7,
   "metadata": {},
   "outputs": [],
   "source": [
    "# Plese, not that the image must always have a channel dimension\n",
    "test_img_4 = np.array([[0, 0, 1],\n",
    "                       [0, 0, 1],\n",
    "                       [0, 0, 1]]).reshape(3, 3, 1)\n",
    "\n",
    "# Masks, however, should have only two dimensions\n",
    "test_mask_4 = np.array([[1, 0, 0],\n",
    "                        [1, 0, 0],\n",
    "                        [1, 0, 0]])\n",
    "\n",
    "dc = sld.DataContainer((test_img_4, test_mask_4), 'IM')"
   ]
  },
  {
   "cell_type": "markdown",
   "metadata": {},
   "source": [
    "### Applying the transformations"
   ]
  },
  {
   "cell_type": "code",
   "execution_count": 8,
   "metadata": {},
   "outputs": [],
   "source": [
    "dc_res = stream(dc)"
   ]
  },
  {
   "cell_type": "markdown",
   "metadata": {},
   "source": [
    "We can get access to the data within the container as follows:"
   ]
  },
  {
   "cell_type": "code",
   "execution_count": 9,
   "metadata": {},
   "outputs": [],
   "source": [
    "img_res, mask_res = dc_res.data"
   ]
  },
  {
   "cell_type": "markdown",
   "metadata": {},
   "source": [
    "The format can also be accessed:"
   ]
  },
  {
   "cell_type": "code",
   "execution_count": 10,
   "metadata": {},
   "outputs": [
    {
     "data": {
      "text/plain": [
       "'IM'"
      ]
     },
     "execution_count": 10,
     "metadata": {},
     "output_type": "execute_result"
    }
   ],
   "source": [
    "dc_res.data_format"
   ]
  },
  {
   "cell_type": "markdown",
   "metadata": {},
   "source": [
    "### Visualizing the results"
   ]
  },
  {
   "cell_type": "code",
   "execution_count": 11,
   "metadata": {},
   "outputs": [
    {
     "data": {
      "image/png": "[encoded data removed]",
      "text/plain": [
       "<matplotlib.figure.Figure at 0x1284b4be0>"
      ]
     },
     "metadata": {},
     "output_type": "display_data"
    }
   ],
   "source": [
    "fig, ax = plt.subplots(2, 2, figsize=(8, 8))\n",
    "ax[0, 0].set_title('Original image')\n",
    "ax[0, 0].imshow(test_img_4.squeeze())\n",
    "\n",
    "ax[0, 1].set_title('Transformed image')\n",
    "ax[0, 1].imshow(img_res.squeeze())\n",
    "\n",
    "ax[1, 0].set_title('Original mask')\n",
    "ax[1, 0].imshow(test_mask_4)\n",
    "\n",
    "ax[1, 1].set_title('Transformed mask')\n",
    "ax[1, 1].imshow(mask_res)\n",
    "plt.show()"
   ]
  },
  {
   "cell_type": "markdown",
   "metadata": {},
   "source": [
    "## Serializing the transformations and streams\n",
    "\n",
    "We found serialization of the augmentation pipelines to be an important challenge when running experiements. In **solt**, we developed the following API, which allows you to conveniently serialize the whole transformation stream into OrderedDict, which can later be converted into JSON:"
   ]
  },
  {
   "cell_type": "code",
   "execution_count": 12,
   "metadata": {},
   "outputs": [
    {
     "name": "stdout",
     "output_type": "stream",
     "text": [
      "{\n",
      "    \"RandomFlip\": {\n",
      "        \"axis\": 1,\n",
      "        \"indices\": null,\n",
      "        \"p\": 0.5\n",
      "    },\n",
      "    \"RandomRotate\": {\n",
      "        \"indices\": null,\n",
      "        \"interpolation\": [\n",
      "            \"bilinear\",\n",
      "            \"inherit\"\n",
      "        ],\n",
      "        \"p\": 0.5,\n",
      "        \"padding\": [\n",
      "            \"z\",\n",
      "            \"inherit\"\n",
      "        ],\n",
      "        \"range\": [\n",
      "            -90,\n",
      "            90\n",
      "        ]\n",
      "    }\n",
      "}\n"
     ]
    }
   ],
   "source": [
    "stream = slc.Stream([\n",
    "    slt.RandomFlip(axis=1),\n",
    "    slt.RandomRotate(rotation_range=(-90, 90)),\n",
    "])\n",
    "print(json.dumps(stream.serialize(), indent=4, ))"
   ]
  },
  {
   "cell_type": "markdown",
   "metadata": {},
   "source": [
    "## Implementing own transforms\n",
    "Let's implament a simple transform, which simply randomly drops one of the image corners. We will not use all the necessary parameter checks and write tests, however, you can see how it is done in the source code or contributing guidelines. To fully understand the implementation, simply read the docstrings:"
   ]
  },
  {
   "cell_type": "code",
   "execution_count": 13,
   "metadata": {},
   "outputs": [],
   "source": [
    "class ImageCornerDropTransform(slb.ImageTransform):\n",
    "    def __init__(self, corner_size=None, p=None, data_indices=None):\n",
    "        \"\"\"Transform, which simply drops one of the image corners.\n",
    "        \n",
    "        \n",
    "        Here is the order of corners used:\n",
    "        \n",
    "        01\n",
    "        23\n",
    "        \n",
    "        Because this transform is only for images, let's use a parent class `ImageTransform` from\n",
    "        the module `base_transforms`.\n",
    "        \n",
    "        p : None or float\n",
    "            Probability of using this transform.\n",
    "        data_indicies : tuple or None\n",
    "            Indices within a data container where this transform need to be applied. \n",
    "        \"\"\"\n",
    "        super(ImageCornerDropTransform, self).__init__(p=p, data_indices=data_indices)\n",
    "        if corner_size is None:\n",
    "            corner_size = 0\n",
    "        self._corner_size = corner_size\n",
    "        \n",
    "    def sample_transform(self):\n",
    "        \"\"\"This method samples the parameters of the transform.\n",
    "        \n",
    "        Having called this method once we can easily apply the same transformation to \n",
    "        every item within a data container. \n",
    "        \n",
    "        \"\"\"\n",
    "        \n",
    "        self.state_dict['corner'] = np.random.randint(0, 4)\n",
    "        \n",
    "    def _apply_img(self, img):\n",
    "        \"\"\"Applies a transform to an image.\n",
    "        \n",
    "        Every transform has the following set of methods, which are applied autimatically, depending on the data:\n",
    "        _apply_img\n",
    "        _apply_mask\n",
    "        _apply_labels\n",
    "        _apply_pts\n",
    "        \n",
    "        Because this particular transform is a subclass of ImageTransform, then we just need to define the behavior for images.\n",
    "        \n",
    "        \"\"\"\n",
    "        img = img.copy()\n",
    "        s = self._corner_size\n",
    "        if self.state_dict['corner'] == 0:\n",
    "            img[:s, :s] = 0\n",
    "        elif self.state_dict['corner'] == 1:\n",
    "            img[:s, -s:] = 0\n",
    "        elif self.state_dict['corner'] == 2:\n",
    "            img[-s:, :s] = 0\n",
    "        elif self.state_dict['corner'] == 3:\n",
    "            img[-s:, -s:] = 0\n",
    "            \n",
    "        return img"
   ]
  },
  {
   "cell_type": "markdown",
   "metadata": {},
   "source": [
    "When the transform is imolemented, we can easily use it and rely on the superclasses' implementations. In particular, we do not need to think how about the data / mistake handling / serialization etc.\n",
    "\n",
    "Alright. Let's try to apply this transform now on a test image. Let's first create the data:"
   ]
  },
  {
   "cell_type": "code",
   "execution_count": 14,
   "metadata": {},
   "outputs": [],
   "source": [
    "test_img = np.zeros((10, 10, 1))\n",
    "test_img[:2, :2] = 1\n",
    "test_img[:2, -2:] = 1\n",
    "test_img[-2:, :2] = 1\n",
    "test_img[-2:, -2:] = 1\n",
    "\n",
    "dc = sld.DataContainer(test_img, 'I')"
   ]
  },
  {
   "cell_type": "code",
   "execution_count": 15,
   "metadata": {},
   "outputs": [
    {
     "data": {
      "image/png": "[encoded data removed]",
      "text/plain": [
       "<matplotlib.figure.Figure at 0x12ac55240>"
      ]
     },
     "metadata": {},
     "output_type": "display_data"
    }
   ],
   "source": [
    "plt.imshow(test_img.squeeze())\n",
    "plt.show()"
   ]
  },
  {
   "cell_type": "markdown",
   "metadata": {},
   "source": [
    "Applying transform to drop at least 1 corner:"
   ]
  },
  {
   "cell_type": "code",
   "execution_count": 16,
   "metadata": {},
   "outputs": [
    {
     "data": {
      "image/png": "[encoded data removed]",
      "text/plain": [
       "<matplotlib.figure.Figure at 0x12adc72e8>"
      ]
     },
     "metadata": {},
     "output_type": "display_data"
    }
   ],
   "source": [
    "trf = ImageCornerDropTransform(p=1, corner_size=2)\n",
    "\n",
    "fig, ax = plt.subplots(5, 5, figsize=(10, 10))\n",
    "for row in range(5):\n",
    "    for col in range(5):\n",
    "        dc_res = trf(dc)\n",
    "        ax[row, col].imshow(dc_res.data[0].squeeze())\n",
    "        ax[row, col].set_xticks([])\n",
    "        ax[row, col].set_yticks([])\n",
    "plt.tight_layout()\n",
    "plt.show()"
   ]
  }
 ],
 "metadata": {
  "kernelspec": {
   "display_name": "Python 3",
   "language": "python",
   "name": "python3"
  },
  "language_info": {
   "codemirror_mode": {
    "name": "ipython",
    "version": 3
   },
   "file_extension": ".py",
   "mimetype": "text/x-python",
   "name": "python",
   "nbconvert_exporter": "python",
   "pygments_lexer": "ipython3",
   "version": "3.6.3"
  }
 },
 "nbformat": 4,
 "nbformat_minor": 2
}
